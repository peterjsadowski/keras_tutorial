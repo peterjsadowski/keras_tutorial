{
  "nbformat": 4,
  "nbformat_minor": 0,
  "metadata": {
    "colab": {
      "name": "Copy of keras_mnist_2.ipynb",
      "provenance": [],
      "collapsed_sections": [],
      "include_colab_link": true
    },
    "kernelspec": {
      "display_name": "Python 3",
      "language": "python",
      "name": "python3"
    },
    "accelerator": "GPU"
  },
  "cells": [
    {
      "cell_type": "markdown",
      "metadata": {
        "id": "view-in-github",
        "colab_type": "text"
      },
      "source": [
        "<a href=\"https://colab.research.google.com/github/peterjsadowski/keras_tutorial/blob/master/2_keras_mnist_advanced.ipynb\" target=\"_parent\"><img src=\"https://colab.research.google.com/assets/colab-badge.svg\" alt=\"Open In Colab\"/></a>"
      ]
    },
    {
      "cell_type": "markdown",
      "metadata": {
        "id": "RPbBpk1NzpQ1"
      },
      "source": [
        "# Advanced Keras Tutorial\n",
        "This tutorial introduces:\n",
        "\n",
        "1) Using the GPU\n",
        "\n",
        "2) Data generators in Keras.\n",
        "\n",
        "3) Functional API for complex models.\n",
        " \n"
      ]
    },
    {
      "cell_type": "code",
      "metadata": {
        "id": "B8zOyh7XzpQ3"
      },
      "source": [
        "import numpy as np\n",
        "import numpy.random\n",
        "import matplotlib.pyplot as plt\n",
        "import os, sys, socket\n",
        "\n",
        "import tensorflow as tf\n",
        "\n",
        "import keras\n",
        "from keras.datasets import mnist\n",
        "from keras.models import Model\n",
        "from keras.layers import Dense, Dropout, Activation, Input, Conv2D, Flatten\n",
        "import keras.layers.merge as merge\n",
        "from keras.layers.merge import Concatenate\n",
        "from keras.utils import np_utils\n",
        "from keras.optimizers import SGD, Adam"
      ],
      "execution_count": 1,
      "outputs": []
    },
    {
      "cell_type": "markdown",
      "metadata": {
        "id": "lrm9TejgzpQ9"
      },
      "source": [
        "## Define data generators for training and validation."
      ]
    },
    {
      "cell_type": "code",
      "metadata": {
        "id": "vBOZOXe_zpQ-"
      },
      "source": [
        "# The following function is used to serve up both train and validation data.\n",
        "def data_generator(X, Y, batchsize):\n",
        "    nb_classes = 10\n",
        "    N = X.shape[0]\n",
        "    while True:\n",
        "        indices1 = np.random.randint(low=0, high=N, size=(batchsize,))\n",
        "        indices2 = np.random.randint(low=0, high=N, size=(batchsize,))\n",
        "        \n",
        "        X1 = X[indices1,...].astype('float32') / 255.0\n",
        "        X2 = X[indices2,...].astype('float32') / 255.0\n",
        "        Y1 = Y[indices1]\n",
        "        Y2 = Y[indices2]\n",
        "        T  = (Y1 + Y2) # Sum of values.\n",
        "        \n",
        "        X1 = np.expand_dims(X1, axis=1) # For conv with theano, shape=(batchsize, channels, row, col).\n",
        "        X2 = np.expand_dims(X2, axis=1) # We are just adding a dummy dimension saying that there is one channel.\n",
        "        \n",
        "        Y1 = np_utils.to_categorical(Y1, nb_classes)\n",
        "        Y2 = np_utils.to_categorical(Y2, nb_classes)\n",
        "        T  = np_utils.to_categorical(T, 19) # 19 possible values.\n",
        "        \n",
        "        yield {'input1':X1 , 'input2':X2},  {'out':T} #, 'aux1':Y1, 'aux2':Y2}\n",
        "        \n",
        "# Load data.\n",
        "(X_train, Y_train), (X_valid, Y_valid) = mnist.load_data() # Shape = (N,28,28), (N,)\n",
        "# Create generators.\n",
        "batchsize  = 200 \n",
        "data_train = data_generator(X_train, Y_train, batchsize)\n",
        "data_valid = data_generator(X_valid, Y_valid, batchsize)"
      ],
      "execution_count": 7,
      "outputs": []
    },
    {
      "cell_type": "code",
      "metadata": {
        "id": "Gui8KjR-zpRB",
        "colab": {
          "base_uri": "https://localhost:8080/",
          "height": 159
        },
        "outputId": "5cbca975-bd1c-4df8-8dfe-ab3a602c143a"
      },
      "source": [
        "# Plot examples of the data.\n",
        "inputs, outputs = data_train.__next__()\n",
        "Xbatch = inputs['input1']\n",
        "plt.figure(1, figsize=(14,2))\n",
        "for i in range(10):\n",
        "    plt.subplot(2,10,i+1)\n",
        "    plt.imshow(inputs['input1'][i].reshape(28,28), cmap='gray', interpolation='nearest')\n",
        "    plt.xticks([])\n",
        "    plt.yticks([])\n",
        "    plt.title('Target=%d' % np.argmax(outputs['out'][i]))\n",
        "    plt.subplot(2,10,10+i+1)\n",
        "    plt.imshow(inputs['input2'][i].reshape(28,28), cmap='gray', interpolation='nearest')\n",
        "    plt.xticks([])\n",
        "    plt.yticks([])"
      ],
      "execution_count": 8,
      "outputs": [
        {
          "output_type": "display_data",
          "data": {
            "image/png": "[encoded data removed]",
            "text/plain": [
              "<Figure size 1008x144 with 20 Axes>"
            ]
          },
          "metadata": {
            "tags": []
          }
        }
      ]
    },
    {
      "cell_type": "markdown",
      "metadata": {
        "id": "rNfItrsTzpRF"
      },
      "source": [
        "# Define Keras Model with the Functional API\n"
      ]
    },
    {
      "cell_type": "code",
      "metadata": {
        "id": "dGg_p1h2zpRH",
        "colab": {
          "base_uri": "https://localhost:8080/"
        },
        "outputId": "4ccae54b-e5cb-4db7-be7a-d095caef7acc"
      },
      "source": [
        "# Input data.\n",
        "input1   = Input(shape=(1, 28,28), dtype='float32', name='input1') # Argument 'name' must match name in dictionary.\n",
        "input2   = Input(shape=(1, 28,28), dtype='float32', name='input2')\n",
        "\n",
        "# Layer one: Single convolutional layer applied to each input independently, with \"shared weights.\"\n",
        "nb_filter      = 32     # Number of convolutional kernels.\n",
        "nb_row, nb_col = 7,7   # Convolution kernel size.\n",
        "strides        = (3,3) # Step size for convolution kernels.\n",
        "conv  =  Conv2D(nb_filter, (nb_row, nb_col), activation='relu', padding='same', strides=strides)\n",
        "x1    = conv(input1) # Layer object conv transforms data.\n",
        "x2    = conv(input2)\n",
        "\n",
        "# Flatten data: transform from (28,28) to (784,)\n",
        "x1 = Flatten()(x1)\n",
        "x2 = Flatten()(x2)\n",
        "\n",
        "# Layer two: Single fully-connected layer applied to each input independently, with shared weights.\n",
        "layer = Dense(256, activation='relu')\n",
        "x1 = layer(x1)\n",
        "x2 = layer(x2)\n",
        "\n",
        "# Auxiliary softmax layers try to classify digits. \n",
        "# The output of these layers aren't fed into the next layer.\n",
        "#layer = Dense(10) # These weights are shared.\n",
        "#aux1  = Activation(activation='softmax', name='aux1')(layer(x1)) # Output layers must be named.\n",
        "#aux2  = Activation(activation='softmax', name='aux2')(layer(x2))\n",
        "\n",
        "# Merge hidden representations.\n",
        "#x = merge.Concatenate()([x1, x2])\n",
        "x = Concatenate()([x1, x2])\n",
        "\n",
        "# More dense layers then output.\n",
        "x   = Dense(512, activation='relu')(x)\n",
        "out = Dense(19, activation='softmax', name='out')(x) # Output layers must be named.\n",
        "\n",
        "# Create model object that puts it all together.\n",
        "#model = Model(inputs=[input1, input2], outputs=[out, aux1, aux2])\n",
        "model = Model(inputs=[input1, input2], outputs=[out])\n",
        "model.summary()"
      ],
      "execution_count": 9,
      "outputs": [
        {
          "output_type": "stream",
          "text": [
            "Model: \"functional_3\"\n",
            "__________________________________________________________________________________________________\n",
            "Layer (type)                    Output Shape         Param #     Connected to                     \n",
            "==================================================================================================\n",
            "input1 (InputLayer)             [(None, 1, 28, 28)]  0                                            \n",
            "__________________________________________________________________________________________________\n",
            "input2 (InputLayer)             [(None, 1, 28, 28)]  0                                            \n",
            "__________________________________________________________________________________________________\n",
            "conv2d_1 (Conv2D)               (None, 1, 10, 32)    43936       input1[0][0]                     \n",
            "                                                                 input2[0][0]                     \n",
            "__________________________________________________________________________________________________\n",
            "flatten_2 (Flatten)             (None, 320)          0           conv2d_1[0][0]                   \n",
            "__________________________________________________________________________________________________\n",
            "flatten_3 (Flatten)             (None, 320)          0           conv2d_1[1][0]                   \n",
            "__________________________________________________________________________________________________\n",
            "dense_2 (Dense)                 (None, 256)          82176       flatten_2[0][0]                  \n",
            "                                                                 flatten_3[0][0]                  \n",
            "__________________________________________________________________________________________________\n",
            "concatenate_1 (Concatenate)     (None, 512)          0           dense_2[0][0]                    \n",
            "                                                                 dense_2[1][0]                    \n",
            "__________________________________________________________________________________________________\n",
            "dense_3 (Dense)                 (None, 512)          262656      concatenate_1[0][0]              \n",
            "__________________________________________________________________________________________________\n",
            "out (Dense)                     (None, 19)           9747        dense_3[0][0]                    \n",
            "==================================================================================================\n",
            "Total params: 398,515\n",
            "Trainable params: 398,515\n",
            "Non-trainable params: 0\n",
            "__________________________________________________________________________________________________\n"
          ],
          "name": "stdout"
        }
      ]
    },
    {
      "cell_type": "markdown",
      "metadata": {
        "id": "nXH5jZGHzpRL"
      },
      "source": [
        "# Optimization"
      ]
    },
    {
      "cell_type": "code",
      "metadata": {
        "id": "j_KuS3jSzpRM"
      },
      "source": [
        "optimizer = Adam(lr=0.001, beta_1=0.99, beta_2=0.999, epsilon=1e-08) # Optimization hyperparameters.\n",
        "\n",
        "model.compile(optimizer=optimizer,\n",
        "              loss={'out':'categorical_crossentropy'},\n",
        "              loss_weights={'out': 1.0}, # \n",
        "              metrics=['accuracy'])\n"
      ],
      "execution_count": 10,
      "outputs": []
    },
    {
      "cell_type": "markdown",
      "metadata": {
        "id": "HMuCALu9zpRP"
      },
      "source": [
        "## Train the model."
      ]
    },
    {
      "cell_type": "code",
      "metadata": {
        "id": "hkgjaFS-zpRQ",
        "colab": {
          "base_uri": "https://localhost:8080/"
        },
        "outputId": "63ca0aa7-5806-4fbd-8f4f-35b2f12ecc1e"
      },
      "source": [
        "# Callbacks can be used to stop early, decrease learning rate, checkpoint the model, etc.\n",
        "#from keras.callbacks import EarlyStopping\n",
        "#stopping  = keras.callbacks.EarlyStopping(monitor='val_loss', patience=0, verbose=0, mode='auto')\n",
        "callbacks = []#[stopping]\n",
        "\n",
        "# The fit_generator function loads data batches on the fly, instead of transfering entire data set to the gpu.\n",
        "history   = model.fit_generator(generator=data_train, steps_per_epoch=100, # 500\n",
        "                                epochs=10, verbose=1,\n",
        "                                callbacks=callbacks, \n",
        "                                validation_data=data_valid, validation_steps=100)"
      ],
      "execution_count": 11,
      "outputs": [
        {
          "output_type": "stream",
          "text": [
            "Epoch 1/10\n",
            "100/100 [==============================] - 1s 10ms/step - loss: 2.4501 - accuracy: 0.1669 - val_loss: 2.0818 - val_accuracy: 0.2584\n",
            "Epoch 2/10\n",
            "100/100 [==============================] - 1s 7ms/step - loss: 1.8266 - accuracy: 0.3691 - val_loss: 1.5053 - val_accuracy: 0.5110\n",
            "Epoch 3/10\n",
            "100/100 [==============================] - 1s 7ms/step - loss: 1.1588 - accuracy: 0.6389 - val_loss: 0.8125 - val_accuracy: 0.7633\n",
            "Epoch 4/10\n",
            "100/100 [==============================] - 1s 8ms/step - loss: 0.6527 - accuracy: 0.8113 - val_loss: 0.5102 - val_accuracy: 0.8558\n",
            "Epoch 5/10\n",
            "100/100 [==============================] - 1s 7ms/step - loss: 0.4499 - accuracy: 0.8704 - val_loss: 0.3874 - val_accuracy: 0.8906\n",
            "Epoch 6/10\n",
            "100/100 [==============================] - 1s 7ms/step - loss: 0.3336 - accuracy: 0.9069 - val_loss: 0.2994 - val_accuracy: 0.9141\n",
            "Epoch 7/10\n",
            "100/100 [==============================] - 1s 8ms/step - loss: 0.2840 - accuracy: 0.9161 - val_loss: 0.2412 - val_accuracy: 0.9299\n",
            "Epoch 8/10\n",
            "100/100 [==============================] - 1s 7ms/step - loss: 0.2344 - accuracy: 0.9330 - val_loss: 0.2090 - val_accuracy: 0.9427\n",
            "Epoch 9/10\n",
            "100/100 [==============================] - 1s 7ms/step - loss: 0.1964 - accuracy: 0.9426 - val_loss: 0.1943 - val_accuracy: 0.9417\n",
            "Epoch 10/10\n",
            "100/100 [==============================] - 1s 7ms/step - loss: 0.1847 - accuracy: 0.9466 - val_loss: 0.1773 - val_accuracy: 0.9477\n"
          ],
          "name": "stdout"
        }
      ]
    },
    {
      "cell_type": "code",
      "metadata": {
        "id": "Vgj-AWt_zpRU",
        "colab": {
          "base_uri": "https://localhost:8080/",
          "height": 351
        },
        "outputId": "aaf298eb-ad00-4e44-c312-506cf5124572"
      },
      "source": [
        "# Plot loss trajectory throughout training.\n",
        "plt.figure(1, figsize=(10,5))\n",
        "plt.plot(history.history['accuracy'], label='primary')\n",
        "plt.xlabel('Epoch')\n",
        "plt.ylabel('Accuracy')\n",
        "plt.legend()"
      ],
      "execution_count": 13,
      "outputs": [
        {
          "output_type": "execute_result",
          "data": {
            "text/plain": [
              "<matplotlib.legend.Legend at 0x7efbf64529e8>"
            ]
          },
          "metadata": {
            "tags": []
          },
          "execution_count": 13
        },
        {
          "output_type": "display_data",
          "data": {
            "image/png": "[encoded data removed]",
            "text/plain": [
              "<Figure size 720x360 with 1 Axes>"
            ]
          },
          "metadata": {
            "tags": [],
            "needs_background": "light"
          }
        }
      ]
    },
    {
      "cell_type": "markdown",
      "metadata": {
        "id": "L6doGuvdzpRY"
      },
      "source": [
        "# Post-training analysis."
      ]
    },
    {
      "cell_type": "code",
      "metadata": {
        "id": "s1hFaHsOzpRZ",
        "colab": {
          "base_uri": "https://localhost:8080/",
          "height": 228
        },
        "outputId": "8f8c86ca-59e0-414a-ac29-e4fd0b5c09a1"
      },
      "source": [
        "# Plot example pairs for which the network made a mistake.\n",
        "inputs, outputs = data_valid.__next__()\n",
        "plt.figure(1, figsize=(14,3))\n",
        "i = 0\n",
        "while i < 10:\n",
        "    inputs, outputs = data_valid.__next__()\n",
        "    predictions = model.predict(inputs)\n",
        "    j = 0\n",
        "    while j < 100:\n",
        "        yhat   = predictions[j].argmax(axis=-1) # predictions is list: [out, aux1, aux2]\n",
        "        y      = np.argmax(outputs['out'][j])\n",
        "        input1 = inputs['input1'][j].reshape(28,28)\n",
        "        input2 = inputs['input2'][j].reshape(28,28)\n",
        "        j += 1\n",
        "        if yhat == y:\n",
        "            # Prediction was correct. Ignore this example.\n",
        "            continue\n",
        "        else:\n",
        "            # Prediction was incorrect. Show example.\n",
        "            plt.subplot(2,10,i+1)\n",
        "            plt.imshow(input1, cmap='gray', interpolation='nearest')\n",
        "            plt.xticks([])\n",
        "            plt.yticks([])\n",
        "            plt.title('Pred=%d' % yhat)\n",
        "            plt.title('$y=%d$\\n$\\hat{y}=%d$' % (y,yhat))\n",
        "            plt.subplot(2,10,10+i+1)\n",
        "            plt.imshow(input2, cmap='gray', interpolation='nearest')\n",
        "            plt.xticks([])\n",
        "            plt.yticks([])\n",
        "            i += 1\n",
        "        if not i<10:\n",
        "            break\n",
        "        "
      ],
      "execution_count": 15,
      "outputs": [
        {
          "output_type": "display_data",
          "data": {
            "image/png": "[encoded data removed]",
            "text/plain": [
              "<Figure size 1008x216 with 20 Axes>"
            ]
          },
          "metadata": {
            "tags": []
          }
        }
      ]
    }
  ]
}