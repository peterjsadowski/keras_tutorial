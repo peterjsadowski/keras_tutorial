{
  "nbformat": 4,
  "nbformat_minor": 0,
  "metadata": {
    "colab": {
      "name": "Copy of keras_cnn_mnist.ipynb",
      "provenance": [],
      "collapsed_sections": [],
      "include_colab_link": true
    },
    "kernelspec": {
      "name": "python3",
      "display_name": "Python 3"
    }
  },
  "cells": [
    {
      "cell_type": "markdown",
      "metadata": {
        "id": "view-in-github",
        "colab_type": "text"
      },
      "source": [
        "<a href=\"https://colab.research.google.com/github/peterjsadowski/keras_tutorial/blob/master/0_keras_mnist_cnn.ipynb\" target=\"_parent\"><img src=\"https://colab.research.google.com/assets/colab-badge.svg\" alt=\"Open In Colab\"/></a>"
      ]
    },
    {
      "cell_type": "code",
      "metadata": {
        "id": "b4776w2rktGH",
        "colab": {
          "base_uri": "https://localhost:8080/"
        },
        "outputId": "4748bf4c-36c2-42dc-b3d6-76c3b4713d0e"
      },
      "source": [
        "'''Trains a simple convnet on the MNIST dataset.'''\n",
        "\n",
        "from __future__ import print_function\n",
        "import keras\n",
        "from keras.datasets import mnist\n",
        "from keras.models import Sequential\n",
        "from keras.layers import Dense, Dropout, Flatten\n",
        "from keras.layers import Conv2D, MaxPooling2D\n",
        "import keras.optimizers\n",
        "import warnings\n",
        "warnings.filterwarnings(\"ignore\")\n",
        "\n",
        "batch_size = 128\n",
        "num_classes = 10\n",
        "epochs = 12\n",
        "\n",
        "# input image dimensions\n",
        "img_rows, img_cols = 28, 28\n",
        "\n",
        "# The data, split between train and test sets\n",
        "(x_train, y_train), (x_test, y_test) = mnist.load_data()\n",
        "x_train = x_train.reshape(x_train.shape[0], img_rows, img_cols, 1)\n",
        "x_test = x_test.reshape(x_test.shape[0], img_rows, img_cols, 1)\n",
        "input_shape = (img_rows, img_cols, 1)\n",
        "\n",
        "# Convert uint8 numbers to float32.\n",
        "x_train = x_train.astype('float32')\n",
        "x_test = x_test.astype('float32')\n",
        "x_train /= 255\n",
        "x_test /= 255\n",
        "print('x_train shape:', x_train.shape)\n",
        "print(x_train.shape[0], 'train samples')\n",
        "print(x_test.shape[0], 'test samples')\n",
        "\n",
        "# convert class vectors to binary class matrices\n",
        "y_train = keras.utils.to_categorical(y_train, num_classes)\n",
        "y_test = keras.utils.to_categorical(y_test, num_classes)\n",
        "\n",
        "model = Sequential()\n",
        "model.add(Conv2D(32, kernel_size=(3, 3),\n",
        "                 activation='relu',\n",
        "                 input_shape=input_shape))\n",
        "model.add(Conv2D(64, (3, 3), activation='relu'))\n",
        "model.add(MaxPooling2D(pool_size=(2, 2)))\n",
        "model.add(Flatten())\n",
        "model.add(Dense(128, activation='relu'))\n",
        "model.add(Dense(num_classes, activation='softmax'))\n",
        "\n",
        "model.compile(loss='categorical_crossentropy',\n",
        "              optimizer='adam', # This is faster than standard SGD.\n",
        "              metrics=['accuracy'])\n",
        "\n",
        "model.fit(x_train, y_train,\n",
        "          batch_size=batch_size,\n",
        "          epochs=epochs,\n",
        "          verbose=1,\n",
        "          validation_data=(x_test, y_test))\n",
        "score = model.evaluate(x_test, y_test, verbose=0)\n",
        "print('Test loss:', score[0])\n",
        "print('Test accuracy:', score[1])"
      ],
      "execution_count": null,
      "outputs": [
        {
          "output_type": "stream",
          "text": [
            "Downloading data from https://storage.googleapis.com/tensorflow/tf-keras-datasets/mnist.npz\n",
            "11493376/11490434 [==============================] - 0s 0us/step\n",
            "x_train shape: (60000, 28, 28, 1)\n",
            "60000 train samples\n",
            "10000 test samples\n",
            "Epoch 1/12\n",
            "469/469 [==============================] - 136s 289ms/step - loss: 0.1578 - accuracy: 0.9530 - val_loss: 0.0525 - val_accuracy: 0.9824\n",
            "Epoch 2/12\n",
            "469/469 [==============================] - 135s 288ms/step - loss: 0.0432 - accuracy: 0.9868 - val_loss: 0.0423 - val_accuracy: 0.9863\n",
            "Epoch 3/12\n",
            "469/469 [==============================] - 135s 289ms/step - loss: 0.0270 - accuracy: 0.9915 - val_loss: 0.0386 - val_accuracy: 0.9864\n",
            "Epoch 4/12\n",
            "469/469 [==============================] - 136s 290ms/step - loss: 0.0188 - accuracy: 0.9940 - val_loss: 0.0381 - val_accuracy: 0.9879\n",
            "Epoch 5/12\n",
            "469/469 [==============================] - 140s 298ms/step - loss: 0.0139 - accuracy: 0.9953 - val_loss: 0.0407 - val_accuracy: 0.9882\n",
            "Epoch 6/12\n",
            "469/469 [==============================] - 135s 288ms/step - loss: 0.0089 - accuracy: 0.9971 - val_loss: 0.0445 - val_accuracy: 0.9878\n",
            "Epoch 7/12\n",
            "469/469 [==============================] - 135s 287ms/step - loss: 0.0098 - accuracy: 0.9967 - val_loss: 0.0406 - val_accuracy: 0.9888\n",
            "Epoch 8/12\n",
            "469/469 [==============================] - 136s 289ms/step - loss: 0.0068 - accuracy: 0.9978 - val_loss: 0.0616 - val_accuracy: 0.9845\n",
            "Epoch 9/12\n",
            "469/469 [==============================] - 140s 299ms/step - loss: 0.0046 - accuracy: 0.9985 - val_loss: 0.0415 - val_accuracy: 0.9907\n",
            "Epoch 10/12\n",
            "469/469 [==============================] - 136s 290ms/step - loss: 0.0037 - accuracy: 0.9988 - val_loss: 0.0593 - val_accuracy: 0.9872\n",
            "Epoch 11/12\n",
            "469/469 [==============================] - 134s 286ms/step - loss: 0.0053 - accuracy: 0.9982 - val_loss: 0.0548 - val_accuracy: 0.9879\n",
            "Epoch 12/12\n",
            "469/469 [==============================] - 134s 285ms/step - loss: 0.0042 - accuracy: 0.9987 - val_loss: 0.0475 - val_accuracy: 0.9890\n",
            "Test loss: 0.047541990876197815\n",
            "Test accuracy: 0.9890000224113464\n"
          ],
          "name": "stdout"
        }
      ]
    }
  ]
}