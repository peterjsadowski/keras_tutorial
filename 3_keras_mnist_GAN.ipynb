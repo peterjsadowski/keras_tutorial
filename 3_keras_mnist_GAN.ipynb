{
  "nbformat": 4,
  "nbformat_minor": 0,
  "metadata": {
    "colab": {
      "name": "Copy of mnist_gan.ipynb",
      "provenance": [],
      "gpuType": "T4",
      "include_colab_link": true
    },
    "kernelspec": {
      "display_name": "Python 3",
      "name": "python3"
    },
    "accelerator": "GPU"
  },
  "cells": [
    {
      "cell_type": "markdown",
      "metadata": {
        "id": "view-in-github",
        "colab_type": "text"
      },
      "source": [
        "<a href=\"https://colab.research.google.com/github/peterjsadowski/keras_tutorial/blob/master/3_keras_mnist_GAN.ipynb\" target=\"_parent\"><img src=\"https://colab.research.google.com/assets/colab-badge.svg\" alt=\"Open In Colab\"/></a>"
      ]
    },
    {
      "cell_type": "markdown",
      "metadata": {
        "id": "jZ5Mkwyxz-yF"
      },
      "source": [
        "# Keras Tutorial for Generative Adversarial Nets\n",
        "This tutorial introduces Generative Adversarial Networks on MNIST.\n",
        "\n"
      ]
    },
    {
      "cell_type": "code",
      "metadata": {
        "id": "cUgCKtD4z-yG"
      },
      "source": [
        "import numpy as np\n",
        "import os\n",
        "import numpy.random\n",
        "import matplotlib.pyplot as plt\n",
        "\n",
        "from collections import defaultdict\n",
        "from tqdm import tqdm\n",
        "from IPython import display\n",
        "\n",
        "import keras\n",
        "from keras.datasets import mnist\n",
        "from keras.models import Model, Sequential\n",
        "from keras.layers import Dense, Dropout, Activation, Input, Convolution2D, Flatten, BatchNormalization\n",
        "from keras.utils import to_categorical\n",
        "\n",
        "import tensorflow as tf\n",
        "from tensorflow.keras.optimizers import SGD,Adam\n"
      ],
      "execution_count": 1,
      "outputs": []
    },
    {
      "cell_type": "markdown",
      "metadata": {
        "id": "TVd9otiYz-yM"
      },
      "source": [
        "## Define data."
      ]
    },
    {
      "cell_type": "code",
      "metadata": {
        "id": "bseTbVObz-yO",
        "outputId": "9e83a182-e29d-4db0-ea97-c2d4e269cdeb",
        "colab": {
          "base_uri": "https://localhost:8080/"
        }
      },
      "source": [
        "# Load data.\n",
        "(X_train, Y_train), (X_test, Y_test) = mnist.load_data()\n",
        "print(\"Original X shape\", X_train.shape)\n",
        "print(\"Original Y shape\", Y_train.shape)\n",
        "\n",
        "# Reshape data.\n",
        "X_train = X_train.reshape(60000, 784)\n",
        "X_test  = X_test.reshape(10000, 784)\n",
        "X_train = X_train.astype('float32')\n",
        "X_test  = X_test.astype('float32')\n",
        "X_train /= 255 # Original data is uint8 (0-255). Scale it to range [0,1].\n",
        "X_test  /= 255\n",
        "print(\"Training X matrix shape\", X_train.shape)\n",
        "print(\"Testing X matrix shape\", X_test.shape)\n",
        "\n",
        "# Represent the targets as one-hot vectors: e.g. 2 -> [0, 0, 1, 0, 0, 0, 0, 0, 0].\n",
        "nb_classes = 10\n",
        "Y_train = to_categorical(Y_train, nb_classes)\n",
        "Y_test  = to_categorical(Y_test, nb_classes)\n",
        "print(\"Training Y matrix shape\", Y_train.shape)\n",
        "print(\"Testing Y matrix shape\", Y_test.shape)"
      ],
      "execution_count": 2,
      "outputs": [
        {
          "output_type": "stream",
          "name": "stdout",
          "text": [
            "Downloading data from https://storage.googleapis.com/tensorflow/tf-keras-datasets/mnist.npz\n",
            "\u001b[1m11490434/11490434\u001b[0m \u001b[32m━━━━━━━━━━━━━━━━━━━━\u001b[0m\u001b[37m\u001b[0m \u001b[1m0s\u001b[0m 0us/step\n",
            "Original X shape (60000, 28, 28)\n",
            "Original Y shape (60000,)\n",
            "Training X matrix shape (60000, 784)\n",
            "Testing X matrix shape (10000, 784)\n",
            "Training Y matrix shape (60000, 10)\n",
            "Testing Y matrix shape (10000, 10)\n"
          ]
        }
      ]
    },
    {
      "cell_type": "markdown",
      "metadata": {
        "id": "fZirAYc7z-yT"
      },
      "source": [
        "# Define Keras Model\n"
      ]
    },
    {
      "cell_type": "code",
      "metadata": {
        "id": "YKugZxVnz-yT"
      },
      "source": [
        "# Model\n",
        "def define_generator(ndense=1, nhid=100, learning_rate=1e-3, act='relu', mom=0.9, dropout=0.0, input_shape=20):\n",
        "    # Define 'generator' that predicts sig vs bg from features.\n",
        "    input_shape = input_shape # Number of inputs to generator (random numbers)\n",
        "    output_shape= 784\n",
        "    ndense      = 2\n",
        "    nhid        = 100\n",
        "    act         = 'relu'\n",
        "    input       = Input(shape=(input_shape,), name='input')\n",
        "    x           = input\n",
        "    for i in range(ndense):\n",
        "        x = Dense(units=nhid, activation=act)(x)\n",
        "        x = BatchNormalization()(x)\n",
        "    output    = Dense(units=output_shape, activation='sigmoid', name='output')(x)\n",
        "    generator = Model(input, output)\n",
        "    opt       = Adam(learning_rate=learning_rate, beta_1=mom)\n",
        "    #generator.compile(loss='binary_crossentropy', optimizer=opt)\n",
        "    return generator\n",
        "\n",
        "def define_discriminator(ndense=1, nhid=100, act='relu', learning_rate=1e-3, mom=0.9, decay=0.0, dropout=0.0):\n",
        "    # Define 'discriminator' that predicts whether input is generated vs. real.\n",
        "    input_shape = 784\n",
        "    output_shape= 1\n",
        "    ndense      = ndense\n",
        "    nhid        = nhid\n",
        "    act         = act\n",
        "    input       = Input(shape=(input_shape,))\n",
        "    x           = input\n",
        "    for i in range(ndense):\n",
        "        x = Dense(units=nhid, activation=act)(x)\n",
        "    output = Dense(units=output_shape, activation='sigmoid')(x)\n",
        "    discriminator = Model(input, output)\n",
        "    #opt       = Adam(lr=lr, beta_1=mom)\n",
        "    opt = SGD(learning_rate=learning_rate,momentum=mom,decay=decay)\n",
        "    discriminator.compile(loss='binary_crossentropy', optimizer=opt)\n",
        "    return discriminator\n",
        "\n",
        "def plot_loss(history):\n",
        "    plt.figure(1)\n",
        "    plt.clf()\n",
        "    for k in history:\n",
        "        plt.plot(history[k], label=k)\n",
        "    plt.legend()\n",
        "    plt.xlabel('Epoch')\n",
        "    plt.ylabel('')\n",
        "    #plt.show()\n",
        "\n",
        "def plot_gen(generator, input_shape):\n",
        "    noisebatch = np.random.uniform(-1, 1, size=[10, input_shape])\n",
        "    generated  = generator.predict(noisebatch)\n",
        "    plt.figure(2, figsize=(14,5))\n",
        "    plt.clf()\n",
        "    for i in range(10):\n",
        "        plt.subplot(2,5, i+1)\n",
        "        plt.imshow(generated[i,:].reshape(28,28), cmap='gray', interpolation='none', vmin=0.0, vmax=1.0)\n",
        "        plt.xticks([])\n",
        "        plt.yticks([])\n",
        "    plt.show()"
      ],
      "execution_count": 26,
      "outputs": []
    },
    {
      "cell_type": "markdown",
      "metadata": {
        "id": "CHm8f363z-yX"
      },
      "source": [
        "# Training"
      ]
    },
    {
      "cell_type": "code",
      "metadata": {
        "id": "agHlta29z-yY",
        "outputId": "8ab05d82-1d55-4dae-b85b-f6c1db8d64ed",
        "colab": {
          "base_uri": "https://localhost:8080/",
          "height": 1000
        }
      },
      "source": [
        "num_epochs  = 10000  *3\n",
        "plt_frq     = 100\n",
        "batchsize   = 100\n",
        "input_shape = 10 # Number of random inputs to generator.\n",
        "learning_rate  = .05\n",
        "momgen      = 0.\n",
        "momdisc     = 0.\n",
        "clipnorm    = 1.\n",
        "decay     =   1e-5\n",
        "\n",
        "generator     = define_generator(ndense=4, nhid=100, act='tanh', input_shape=input_shape)\n",
        "discriminator = define_discriminator(ndense=2, nhid=100, act='tanh',\n",
        "  learning_rate=learning_rate*10, mom=momdisc, decay=decay) #, clipnorm=clipnorm)\n",
        "discriminator.trainable = False\n",
        "gan           = Sequential(layers=[generator, discriminator])\n",
        "optimizer = SGD(learning_rate=learning_rate, momentum=momgen, decay=decay, clipnorm=clipnorm)\n",
        "gan.compile(loss='binary_crossentropy', optimizer=optimizer)\n",
        "\n",
        "%history = defaultdict(list)\n",
        "history = {\"d_loss\":[], \"g_loss\":[]}\n",
        "for epoch in tqdm(range(num_epochs)):\n",
        "\n",
        "    # Generate images.\n",
        "    noisebatch = np.random.uniform(-1, 1, size=[batchsize,input_shape])\n",
        "    noisebatch_data = tf.data.Dataset.from_tensor_slices(noisebatch)\n",
        "    noisebatch_data = noisebatch_data.batch(batch_size=batchsize)\n",
        "    generated  = generator.predict(noisebatch_data)\n",
        "\n",
        "    # Update discriminator.\n",
        "    databatch  = X_train[np.random.randint(0,X_train.shape[0], size=batchsize), :]\n",
        "    X          = np.concatenate([databatch, generated])\n",
        "    T          = np.concatenate([np.ones((databatch.shape[0],)), np.zeros((generated.shape[0],))]) # Real:1, fake:0\n",
        "    discriminator.trainable = True\n",
        "    d_loss  = discriminator.train_on_batch(X,T)\n",
        "    history[\"d_loss\"].append(d_loss)\n",
        "\n",
        "    # Update generator.\n",
        "    noisebatch = np.random.uniform(-1, 1, size=[batchsize,input_shape])\n",
        "    T          = np.ones((noisebatch.shape[0],)) # Try to generate data that looks real.\n",
        "    discriminator.trainable = False\n",
        "    g_loss = gan.train_on_batch(noisebatch, T)\n",
        "    history[\"g_loss\"].append(g_loss)\n",
        "\n",
        "    # Updates plots\n",
        "    if epoch % plt_frq == plt_frq - 1:\n",
        "        display.clear_output(wait=True)\n",
        "        display.display(plt.gcf())\n",
        "        plot_loss(history)\n",
        "        plot_gen(generator, input_shape=input_shape)\n",
        ""
      ],
      "execution_count": null,
      "outputs": [
        {
          "output_type": "display_data",
          "data": {
            "text/plain": [
              "<Figure size 640x480 with 0 Axes>"
            ]
          },
          "metadata": {}
        },
        {
          "output_type": "stream",
          "name": "stdout",
          "text": [
            "\u001b[1m1/1\u001b[0m \u001b[32m━━━━━━━━━━━━━━━━━━━━\u001b[0m\u001b[37m\u001b[0m \u001b[1m0s\u001b[0m 19ms/step\n"
          ]
        },
        {
          "output_type": "display_data",
          "data": {
            "text/plain": [
              "<Figure size 640x480 with 1 Axes>"
            ],
            "image/png": "[encoded data removed]"
          },
          "metadata": {}
        },
        {
          "output_type": "display_data",
          "data": {
            "text/plain": [
              "<Figure size 1400x500 with 10 Axes>"
            ],
            "image/png": "[encoded data removed]"
          },
          "metadata": {}
        },
        {
          "output_type": "stream",
          "name": "stderr",
          "text": [
            "\r  3%|▎         | 800/30000 [05:00<5:20:08,  1.52it/s]"
          ]
        },
        {
          "output_type": "stream",
          "name": "stdout",
          "text": [
            "\u001b[1m1/1\u001b[0m \u001b[32m━━━━━━━━━━━━━━━━━━━━\u001b[0m\u001b[37m\u001b[0m \u001b[1m0s\u001b[0m 10ms/step\n"
          ]
        },
        {
          "output_type": "stream",
          "name": "stderr",
          "text": [
            "\r  3%|▎         | 801/30000 [05:00<5:07:17,  1.58it/s]"
          ]
        },
        {
          "output_type": "stream",
          "name": "stdout",
          "text": [
            "\u001b[1m1/1\u001b[0m \u001b[32m━━━━━━━━━━━━━━━━━━━━\u001b[0m\u001b[37m\u001b[0m \u001b[1m0s\u001b[0m 10ms/step\n"
          ]
        },
        {
          "output_type": "stream",
          "name": "stderr",
          "text": [
            "\r  3%|▎         | 802/30000 [05:01<4:55:22,  1.65it/s]"
          ]
        },
        {
          "output_type": "stream",
          "name": "stdout",
          "text": [
            "\u001b[1m1/1\u001b[0m \u001b[32m━━━━━━━━━━━━━━━━━━━━\u001b[0m\u001b[37m\u001b[0m \u001b[1m0s\u001b[0m 14ms/step\n"
          ]
        },
        {
          "output_type": "stream",
          "name": "stderr",
          "text": [
            "\r  3%|▎         | 803/30000 [05:02<4:52:38,  1.66it/s]"
          ]
        },
        {
          "output_type": "stream",
          "name": "stdout",
          "text": [
            "\u001b[1m1/1\u001b[0m \u001b[32m━━━━━━━━━━━━━━━━━━━━\u001b[0m\u001b[37m\u001b[0m \u001b[1m0s\u001b[0m 10ms/step\n"
          ]
        },
        {
          "output_type": "stream",
          "name": "stderr",
          "text": [
            "\r  3%|▎         | 804/30000 [05:02<4:50:57,  1.67it/s]"
          ]
        },
        {
          "output_type": "stream",
          "name": "stdout",
          "text": [
            "\u001b[1m1/1\u001b[0m \u001b[32m━━━━━━━━━━━━━━━━━━━━\u001b[0m\u001b[37m\u001b[0m \u001b[1m0s\u001b[0m 11ms/step\n"
          ]
        },
        {
          "output_type": "stream",
          "name": "stderr",
          "text": [
            "\r  3%|▎         | 805/30000 [05:03<4:44:23,  1.71it/s]"
          ]
        },
        {
          "output_type": "stream",
          "name": "stdout",
          "text": [
            "\u001b[1m1/1\u001b[0m \u001b[32m━━━━━━━━━━━━━━━━━━━━\u001b[0m\u001b[37m\u001b[0m \u001b[1m0s\u001b[0m 6ms/step\n"
          ]
        },
        {
          "output_type": "stream",
          "name": "stderr",
          "text": [
            "\r  3%|▎         | 806/30000 [05:03<4:12:46,  1.92it/s]"
          ]
        },
        {
          "output_type": "stream",
          "name": "stdout",
          "text": [
            "\u001b[1m1/1\u001b[0m \u001b[32m━━━━━━━━━━━━━━━━━━━━\u001b[0m\u001b[37m\u001b[0m \u001b[1m0s\u001b[0m 7ms/step\n"
          ]
        },
        {
          "output_type": "stream",
          "name": "stderr",
          "text": [
            "\r  3%|▎         | 807/30000 [05:03<3:53:51,  2.08it/s]"
          ]
        },
        {
          "output_type": "stream",
          "name": "stdout",
          "text": [
            "\u001b[1m1/1\u001b[0m \u001b[32m━━━━━━━━━━━━━━━━━━━━\u001b[0m\u001b[37m\u001b[0m \u001b[1m0s\u001b[0m 6ms/step\n"
          ]
        },
        {
          "output_type": "stream",
          "name": "stderr",
          "text": [
            "\r  3%|▎         | 808/30000 [05:04<3:37:09,  2.24it/s]"
          ]
        },
        {
          "output_type": "stream",
          "name": "stdout",
          "text": [
            "\u001b[1m1/1\u001b[0m \u001b[32m━━━━━━━━━━━━━━━━━━━━\u001b[0m\u001b[37m\u001b[0m \u001b[1m0s\u001b[0m 7ms/step\n"
          ]
        }
      ]
    },
    {
      "cell_type": "code",
      "source": [
        "for k in history.keys():\n",
        "  print(k)"
      ],
      "metadata": {
        "id": "ZTle7T2QGAmh",
        "outputId": "9f7ebfd7-6b45-4b14-e8c8-5d08888c0e2b",
        "colab": {
          "base_uri": "https://localhost:8080/"
        }
      },
      "execution_count": 12,
      "outputs": [
        {
          "output_type": "stream",
          "name": "stdout",
          "text": [
            "d_loss\n",
            "g_loss\n"
          ]
        }
      ]
    },
    {
      "cell_type": "code",
      "source": [
        "plt.figure(1)\n",
        "plt.clf()\n",
        "labels = []\n",
        "for k in history:\n",
        "    print(k)\n",
        "    labels.append(k)\n",
        "    plt.plot(history[k], label=k)\n",
        "    break\n",
        "plt.legend(labels)\n",
        "plt.xlabel('Epoch')\n",
        "plt.ylabel('')\n",
        "plt.show()\n"
      ],
      "metadata": {
        "id": "w-t2EsYuGysQ",
        "outputId": "3c722a32-5dc6-404f-bd14-a961e37cfff3",
        "colab": {
          "base_uri": "https://localhost:8080/",
          "height": 466
        }
      },
      "execution_count": 25,
      "outputs": [
        {
          "output_type": "stream",
          "name": "stdout",
          "text": [
            "d_loss\n"
          ]
        },
        {
          "output_type": "display_data",
          "data": {
            "text/plain": [
              "<Figure size 640x480 with 1 Axes>"
            ],
            "image/png": "[encoded data removed]"
          },
          "metadata": {}
        }
      ]
    },
    {
      "cell_type": "code",
      "source": [
        "labels"
      ],
      "metadata": {
        "id": "pic18dN9HOC7",
        "outputId": "d1798f0e-fe5d-41ee-d85c-c56c0d9bd46a",
        "colab": {
          "base_uri": "https://localhost:8080/"
        }
      },
      "execution_count": 24,
      "outputs": [
        {
          "output_type": "execute_result",
          "data": {
            "text/plain": [
              "['d_loss', 'g_loss']"
            ]
          },
          "metadata": {},
          "execution_count": 24
        }
      ]
    },
    {
      "cell_type": "markdown",
      "metadata": {
        "id": "43udmjgIz-yc"
      },
      "source": [
        "# Attempt 2: Convolution"
      ]
    },
    {
      "cell_type": "code",
      "metadata": {
        "id": "rCeHJEaZz-yd",
        "outputId": "559dc7f8-b697-4c94-b20b-53d0a8d1ecce",
        "colab": {
          "base_uri": "https://localhost:8080/",
          "height": 383
        }
      },
      "source": [
        "from keras.models import Sequential\n",
        "from keras.layers import Dense\n",
        "from keras.layers import Reshape\n",
        "from keras.layers.core import Activation\n",
        "from keras.layers.normalization import BatchNormalization\n",
        "from keras.layers.convolutional import UpSampling2D\n",
        "from keras.layers.convolutional import Convolution2D, MaxPooling2D\n",
        "from keras.layers.core import Flatten\n",
        "from keras.optimizers import SGD\n",
        "from keras.datasets import mnist\n",
        "import numpy as np\n",
        "#from PIL import Image\n",
        "import argparse\n",
        "import math\n",
        "\n",
        "def generator_model():\n",
        "    model = Sequential()\n",
        "    model.add(Dense(input_dim=100, units=1024))\n",
        "    model.add(Activation('tanh'))\n",
        "    model.add(Dense(128*7*7))\n",
        "    model.add(BatchNormalization())\n",
        "    model.add(Activation('tanh'))\n",
        "    model.add(Reshape((128, 7, 7), input_shape=(128*7*7,)))\n",
        "    model.add(UpSampling2D(size=(2, 2)))\n",
        "    model.add(Convolution2D(64, 5, 5, border_mode='same'))\n",
        "    model.add(Activation('tanh'))\n",
        "    model.add(UpSampling2D(size=(2, 2)))\n",
        "    model.add(Convolution2D(1, 5, 5, border_mode='same'))\n",
        "    model.add(Activation('tanh'))\n",
        "    return model\n",
        "\n",
        "\n",
        "def discriminator_model():\n",
        "    model = Sequential()\n",
        "    model.add(Convolution2D(\n",
        "                        64, 5, 5,\n",
        "                        border_mode='same',\n",
        "                        input_shape=(1, 28, 28)))\n",
        "    model.add(Activation('tanh'))\n",
        "    model.add(MaxPooling2D(pool_size=(2, 2)))\n",
        "    model.add(Convolution2D(128, 5, 5))\n",
        "    model.add(Activation('tanh'))\n",
        "    model.add(MaxPooling2D(pool_size=(2, 2)))\n",
        "    model.add(Flatten())\n",
        "    model.add(Dense(1024))\n",
        "    model.add(Activation('tanh'))\n",
        "    model.add(Dense(1))\n",
        "    model.add(Activation('sigmoid'))\n",
        "    return model\n",
        "\n",
        "def generator_containing_discriminator(generator, discriminator):\n",
        "    model = Sequential()\n",
        "    model.add(generator)\n",
        "    discriminator.trainable = False\n",
        "    model.add(discriminator)\n",
        "    return model\n",
        "\n",
        "num_epochs  = 10000\n",
        "plt_frq     = 500\n",
        "batchsize   = 100\n",
        "input_shape = 10 # Number of random inputs to generator.\n",
        "lr          = .01\n",
        "momgen      = 0.0\n",
        "momdisc     = 0.0\n",
        "clipnorm    = 1.\n",
        "decay     =   1e-5\n",
        "\n",
        "discriminator_on_generator = generator_containing_discriminator(generator, discriminator)\n",
        "d_optim = SGD(lr=0.0005, momentum=0.9, nesterov=True)\n",
        "g_optim = SGD(lr=0.0005, momentum=0.9, nesterov=True)\n",
        "generator.compile(loss='binary_crossentropy', optimizer=\"SGD\")\n",
        "discriminator_on_generator.compile(loss='binary_crossentropy', optimizer=g_optim)\n",
        "discriminator.trainable = True\n",
        "discriminator.compile(loss='binary_crossentropy', optimizer=d_optim)\n",
        "\n",
        "history = defaultdict(list)\n",
        "for epoch in tqdm(range(num_epochs)):\n",
        "\n",
        "    # Generate images.\n",
        "    noisebatch = np.random.uniform(-1, 1, size=[batchsize,input_shape])\n",
        "    generated  = generator.predict(noisebatch)\n",
        "\n",
        "    # Update discriminator.\n",
        "    databatch  = X_train[np.random.randint(0,X_train.shape[0], size=batchsize), :]\n",
        "    X          = np.concatenate([databatch, generated])\n",
        "    T          = np.concatenate([np.ones((databatch.shape[0],)), np.zeros((generated.shape[0],))]) # Real:1, fake:0\n",
        "    discriminator.trainable = True\n",
        "    d_loss  = discriminator.train_on_batch(X,T)\n",
        "    history[\"d_loss\"].append(d_loss)\n",
        "\n",
        "    # Update generator.\n",
        "    noisebatch = np.random.uniform(-1, 1, size=[batchsize,input_shape])\n",
        "    T          = np.ones((noisebatch.shape[0],)) # Try to generate data that looks real.\n",
        "    discriminator.trainable = False\n",
        "    g_loss = gan.train_on_batch(noisebatch, T)\n",
        "    history[\"g_loss\"].append(g_loss)\n",
        "\n",
        "    # Updates plots\n",
        "    if epoch % plt_frq == plt_frq - 1:\n",
        "        display.clear_output(wait=True)\n",
        "        display.display(plt.gcf())\n",
        "        plot_loss(history)\n",
        "        plot_gen(generator, input_shape=input_shape)"
      ],
      "execution_count": 10,
      "outputs": [
        {
          "output_type": "error",
          "ename": "ModuleNotFoundError",
          "evalue": "No module named 'keras.layers.core'",
          "traceback": [
            "\u001b[0;31m---------------------------------------------------------------------------\u001b[0m",
            "\u001b[0;31mModuleNotFoundError\u001b[0m                       Traceback (most recent call last)",
            "\u001b[0;32m<ipython-input-10-b2966c1e3a68>\u001b[0m in \u001b[0;36m<cell line: 4>\u001b[0;34m()\u001b[0m\n\u001b[1;32m      2\u001b[0m \u001b[0;32mfrom\u001b[0m \u001b[0mkeras\u001b[0m\u001b[0;34m.\u001b[0m\u001b[0mlayers\u001b[0m \u001b[0;32mimport\u001b[0m \u001b[0mDense\u001b[0m\u001b[0;34m\u001b[0m\u001b[0;34m\u001b[0m\u001b[0m\n\u001b[1;32m      3\u001b[0m \u001b[0;32mfrom\u001b[0m \u001b[0mkeras\u001b[0m\u001b[0;34m.\u001b[0m\u001b[0mlayers\u001b[0m \u001b[0;32mimport\u001b[0m \u001b[0mReshape\u001b[0m\u001b[0;34m\u001b[0m\u001b[0;34m\u001b[0m\u001b[0m\n\u001b[0;32m----> 4\u001b[0;31m \u001b[0;32mfrom\u001b[0m \u001b[0mkeras\u001b[0m\u001b[0;34m.\u001b[0m\u001b[0mlayers\u001b[0m\u001b[0;34m.\u001b[0m\u001b[0mcore\u001b[0m \u001b[0;32mimport\u001b[0m \u001b[0mActivation\u001b[0m\u001b[0;34m\u001b[0m\u001b[0;34m\u001b[0m\u001b[0m\n\u001b[0m\u001b[1;32m      5\u001b[0m \u001b[0;32mfrom\u001b[0m \u001b[0mkeras\u001b[0m\u001b[0;34m.\u001b[0m\u001b[0mlayers\u001b[0m\u001b[0;34m.\u001b[0m\u001b[0mnormalization\u001b[0m \u001b[0;32mimport\u001b[0m \u001b[0mBatchNormalization\u001b[0m\u001b[0;34m\u001b[0m\u001b[0;34m\u001b[0m\u001b[0m\n\u001b[1;32m      6\u001b[0m \u001b[0;32mfrom\u001b[0m \u001b[0mkeras\u001b[0m\u001b[0;34m.\u001b[0m\u001b[0mlayers\u001b[0m\u001b[0;34m.\u001b[0m\u001b[0mconvolutional\u001b[0m \u001b[0;32mimport\u001b[0m \u001b[0mUpSampling2D\u001b[0m\u001b[0;34m\u001b[0m\u001b[0;34m\u001b[0m\u001b[0m\n",
            "\u001b[0;31mModuleNotFoundError\u001b[0m: No module named 'keras.layers.core'",
            "",
            "\u001b[0;31m---------------------------------------------------------------------------\u001b[0;32m\nNOTE: If your import is failing due to a missing package, you can\nmanually install dependencies using either !pip or !apt.\n\nTo view examples of installing some common dependencies, click the\n\"Open Examples\" button below.\n\u001b[0;31m---------------------------------------------------------------------------\u001b[0m\n"
          ],
          "errorDetails": {
            "actions": [
              {
                "action": "open_url",
                "actionText": "Open Examples",
                "url": "/notebooks/snippets/importing_libraries.ipynb"
              }
            ]
          }
        }
      ]
    }
  ]
}